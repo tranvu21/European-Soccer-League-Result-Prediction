{
 "cells": [
  {
   "cell_type": "markdown",
   "metadata": {},
   "source": [
    "## Import Necessary Libraries"
   ]
  },
  {
   "cell_type": "code",
   "execution_count": 62,
   "metadata": {
    "collapsed": true
   },
   "outputs": [],
   "source": [
    "import pandas as pd\n",
    "import glob\n",
    "import os\n",
    "import sklearn\n",
    "from sklearn.preprocessing import Normalizer\n",
    "from sklearn.model_selection import train_test_split\n",
    "import numpy as np\n",
    "import seaborn as sns\n"
   ]
  },
  {
   "cell_type": "markdown",
   "metadata": {},
   "source": [
    "## Read data from files and choosing features and labels"
   ]
  },
  {
   "cell_type": "code",
   "execution_count": 63,
   "metadata": {
    "collapsed": false
   },
   "outputs": [],
   "source": [
    "dataset = pd.read_csv('created_dataset/EPL_data_augmented_last_4_matches.csv', index_col=None, header=0)\n",
    "start = 0\n",
    "finish = len(dataset)\n",
    "df_features = dataset.iloc[start:finish, 12:28]\n",
    "df_features = df_features.interpolate(method='linear')\n",
    "result = dataset['FTR'][start:finish]\n",
    "\n"
   ]
  },
  {
   "cell_type": "code",
   "execution_count": 64,
   "metadata": {},
   "outputs": [
    {
     "data": {
      "text/html": [
       "<div>\n",
       "<style scoped>\n",
       "    .dataframe tbody tr th:only-of-type {\n",
       "        vertical-align: middle;\n",
       "    }\n",
       "\n",
       "    .dataframe tbody tr th {\n",
       "        vertical-align: top;\n",
       "    }\n",
       "\n",
       "    .dataframe thead th {\n",
       "        text-align: right;\n",
       "    }\n",
       "</style>\n",
       "<table border=\"1\" class=\"dataframe\">\n",
       "  <thead>\n",
       "    <tr style=\"text-align: right;\">\n",
       "      <th></th>\n",
       "      <th>HomeTeam</th>\n",
       "      <th>AwayTeam</th>\n",
       "      <th>FTHG</th>\n",
       "      <th>FTAG</th>\n",
       "      <th>FTR</th>\n",
       "      <th>HS</th>\n",
       "      <th>AS</th>\n",
       "      <th>HST</th>\n",
       "      <th>AST</th>\n",
       "      <th>HC</th>\n",
       "      <th>...</th>\n",
       "      <th>total_HS_4</th>\n",
       "      <th>total_HS_got_4</th>\n",
       "      <th>total_AST_4</th>\n",
       "      <th>total_AST_got_4</th>\n",
       "      <th>total_HST_4</th>\n",
       "      <th>total_HST_got_4</th>\n",
       "      <th>total_AC_4</th>\n",
       "      <th>total_AC_got_4</th>\n",
       "      <th>total_HC_4</th>\n",
       "      <th>total_HC_got_4</th>\n",
       "    </tr>\n",
       "  </thead>\n",
       "  <tbody>\n",
       "    <tr>\n",
       "      <th>0</th>\n",
       "      <td>Aston Villa</td>\n",
       "      <td>Bolton</td>\n",
       "      <td>2</td>\n",
       "      <td>2</td>\n",
       "      <td>D</td>\n",
       "      <td>3</td>\n",
       "      <td>13</td>\n",
       "      <td>2</td>\n",
       "      <td>6</td>\n",
       "      <td>7</td>\n",
       "      <td>...</td>\n",
       "      <td>0</td>\n",
       "      <td>0</td>\n",
       "      <td>0</td>\n",
       "      <td>0</td>\n",
       "      <td>0</td>\n",
       "      <td>0</td>\n",
       "      <td>0</td>\n",
       "      <td>0</td>\n",
       "      <td>0</td>\n",
       "      <td>0</td>\n",
       "    </tr>\n",
       "    <tr>\n",
       "      <th>1</th>\n",
       "      <td>Everton</td>\n",
       "      <td>Man United</td>\n",
       "      <td>0</td>\n",
       "      <td>2</td>\n",
       "      <td>A</td>\n",
       "      <td>10</td>\n",
       "      <td>12</td>\n",
       "      <td>5</td>\n",
       "      <td>5</td>\n",
       "      <td>8</td>\n",
       "      <td>...</td>\n",
       "      <td>0</td>\n",
       "      <td>0</td>\n",
       "      <td>0</td>\n",
       "      <td>0</td>\n",
       "      <td>0</td>\n",
       "      <td>0</td>\n",
       "      <td>0</td>\n",
       "      <td>0</td>\n",
       "      <td>0</td>\n",
       "      <td>0</td>\n",
       "    </tr>\n",
       "    <tr>\n",
       "      <th>2</th>\n",
       "      <td>Fulham</td>\n",
       "      <td>Birmingham</td>\n",
       "      <td>0</td>\n",
       "      <td>0</td>\n",
       "      <td>D</td>\n",
       "      <td>15</td>\n",
       "      <td>7</td>\n",
       "      <td>7</td>\n",
       "      <td>4</td>\n",
       "      <td>6</td>\n",
       "      <td>...</td>\n",
       "      <td>0</td>\n",
       "      <td>0</td>\n",
       "      <td>0</td>\n",
       "      <td>0</td>\n",
       "      <td>0</td>\n",
       "      <td>0</td>\n",
       "      <td>0</td>\n",
       "      <td>0</td>\n",
       "      <td>0</td>\n",
       "      <td>0</td>\n",
       "    </tr>\n",
       "    <tr>\n",
       "      <th>3</th>\n",
       "      <td>Man City</td>\n",
       "      <td>West Brom</td>\n",
       "      <td>0</td>\n",
       "      <td>0</td>\n",
       "      <td>D</td>\n",
       "      <td>15</td>\n",
       "      <td>13</td>\n",
       "      <td>8</td>\n",
       "      <td>3</td>\n",
       "      <td>3</td>\n",
       "      <td>...</td>\n",
       "      <td>0</td>\n",
       "      <td>0</td>\n",
       "      <td>0</td>\n",
       "      <td>0</td>\n",
       "      <td>0</td>\n",
       "      <td>0</td>\n",
       "      <td>0</td>\n",
       "      <td>0</td>\n",
       "      <td>0</td>\n",
       "      <td>0</td>\n",
       "    </tr>\n",
       "    <tr>\n",
       "      <th>4</th>\n",
       "      <td>Middlesbrough</td>\n",
       "      <td>Liverpool</td>\n",
       "      <td>0</td>\n",
       "      <td>0</td>\n",
       "      <td>D</td>\n",
       "      <td>4</td>\n",
       "      <td>16</td>\n",
       "      <td>2</td>\n",
       "      <td>7</td>\n",
       "      <td>5</td>\n",
       "      <td>...</td>\n",
       "      <td>0</td>\n",
       "      <td>0</td>\n",
       "      <td>0</td>\n",
       "      <td>0</td>\n",
       "      <td>0</td>\n",
       "      <td>0</td>\n",
       "      <td>0</td>\n",
       "      <td>0</td>\n",
       "      <td>0</td>\n",
       "      <td>0</td>\n",
       "    </tr>\n",
       "  </tbody>\n",
       "</table>\n",
       "<p>5 rows × 27 columns</p>\n",
       "</div>"
      ],
      "text/plain": [
       "        HomeTeam    AwayTeam  FTHG  FTAG FTR  HS  AS  HST  AST  HC  ...  \\\n",
       "0    Aston Villa      Bolton     2     2   D   3  13    2    6   7  ...   \n",
       "1        Everton  Man United     0     2   A  10  12    5    5   8  ...   \n",
       "2         Fulham  Birmingham     0     0   D  15   7    7    4   6  ...   \n",
       "3       Man City   West Brom     0     0   D  15  13    8    3   3  ...   \n",
       "4  Middlesbrough   Liverpool     0     0   D   4  16    2    7   5  ...   \n",
       "\n",
       "   total_HS_4  total_HS_got_4  total_AST_4  total_AST_got_4  total_HST_4  \\\n",
       "0           0               0            0                0            0   \n",
       "1           0               0            0                0            0   \n",
       "2           0               0            0                0            0   \n",
       "3           0               0            0                0            0   \n",
       "4           0               0            0                0            0   \n",
       "\n",
       "   total_HST_got_4  total_AC_4  total_AC_got_4  total_HC_4  total_HC_got_4  \n",
       "0                0           0               0           0               0  \n",
       "1                0           0               0           0               0  \n",
       "2                0           0               0           0               0  \n",
       "3                0           0               0           0               0  \n",
       "4                0           0               0           0               0  \n",
       "\n",
       "[5 rows x 27 columns]"
      ]
     },
     "execution_count": 64,
     "metadata": {},
     "output_type": "execute_result"
    }
   ],
   "source": [
    "dataset.head()"
   ]
  },
  {
   "cell_type": "code",
   "execution_count": 65,
   "metadata": {},
   "outputs": [
    {
     "data": {
      "text/plain": [
       "<Axes: >"
      ]
     },
     "execution_count": 65,
     "metadata": {},
     "output_type": "execute_result"
    },
    {
     "data": {
      "image/png": "[encoded data removed]",
      "text/plain": [
       "<Figure size 640x480 with 2 Axes>"
      ]
     },
     "metadata": {},
     "output_type": "display_data"
    }
   ],
   "source": [
    "# Print out the correlation matrix\n",
    "sns.heatmap(df_features.corr().abs())"
   ]
  },
  {
   "cell_type": "code",
   "execution_count": 66,
   "metadata": {},
   "outputs": [
    {
     "data": {
      "text/plain": [
       "<Axes: >"
      ]
     },
     "execution_count": 66,
     "metadata": {},
     "output_type": "execute_result"
    },
    {
     "data": {
      "image/png": "[encoded data removed]",
      "text/plain": [
       "<Figure size 640x480 with 1 Axes>"
      ]
     },
     "metadata": {},
     "output_type": "display_data"
    }
   ],
   "source": [
    "result.hist()"
   ]
  },
  {
   "cell_type": "code",
   "execution_count": 67,
   "metadata": {},
   "outputs": [],
   "source": [
    "# Create correlation matrix\n",
    "corr_matrix = df_features.corr().abs()\n",
    "\n",
    "# Select upper triangle of correlation matrix\n",
    "upper = corr_matrix.where(np.triu(np.ones(corr_matrix.shape), k=1).astype(bool))\n",
    "\n",
    "# Find features with correlation greater than 0.8\n",
    "to_drop = [column for column in upper.columns if any(upper[column] > 0.8)]\n",
    "\n",
    "# Drop features \n",
    "df_features.drop(to_drop, axis=1, inplace=True)"
   ]
  },
  {
   "cell_type": "code",
   "execution_count": 68,
   "metadata": {},
   "outputs": [
    {
     "data": {
      "text/html": [
       "<div>\n",
       "<style scoped>\n",
       "    .dataframe tbody tr th:only-of-type {\n",
       "        vertical-align: middle;\n",
       "    }\n",
       "\n",
       "    .dataframe tbody tr th {\n",
       "        vertical-align: top;\n",
       "    }\n",
       "\n",
       "    .dataframe thead th {\n",
       "        text-align: right;\n",
       "    }\n",
       "</style>\n",
       "<table border=\"1\" class=\"dataframe\">\n",
       "  <thead>\n",
       "    <tr style=\"text-align: right;\">\n",
       "      <th></th>\n",
       "      <th>total_goals_away_4</th>\n",
       "      <th>total_goals_home_got_4</th>\n",
       "      <th>total_goals_away_got_4</th>\n",
       "      <th>total_AS_4</th>\n",
       "      <th>total_AS_got_4</th>\n",
       "      <th>total_HS_4</th>\n",
       "      <th>total_HS_got_4</th>\n",
       "      <th>total_AST_4</th>\n",
       "      <th>total_AST_got_4</th>\n",
       "      <th>total_HST_4</th>\n",
       "      <th>total_HST_got_4</th>\n",
       "      <th>total_AC_4</th>\n",
       "      <th>total_AC_got_4</th>\n",
       "      <th>total_HC_4</th>\n",
       "      <th>total_HC_got_4</th>\n",
       "    </tr>\n",
       "  </thead>\n",
       "  <tbody>\n",
       "    <tr>\n",
       "      <th>0</th>\n",
       "      <td>0</td>\n",
       "      <td>0</td>\n",
       "      <td>0</td>\n",
       "      <td>0</td>\n",
       "      <td>0</td>\n",
       "      <td>0</td>\n",
       "      <td>0</td>\n",
       "      <td>0</td>\n",
       "      <td>0</td>\n",
       "      <td>0</td>\n",
       "      <td>0</td>\n",
       "      <td>0</td>\n",
       "      <td>0</td>\n",
       "      <td>0</td>\n",
       "      <td>0</td>\n",
       "    </tr>\n",
       "    <tr>\n",
       "      <th>1</th>\n",
       "      <td>0</td>\n",
       "      <td>0</td>\n",
       "      <td>0</td>\n",
       "      <td>0</td>\n",
       "      <td>0</td>\n",
       "      <td>0</td>\n",
       "      <td>0</td>\n",
       "      <td>0</td>\n",
       "      <td>0</td>\n",
       "      <td>0</td>\n",
       "      <td>0</td>\n",
       "      <td>0</td>\n",
       "      <td>0</td>\n",
       "      <td>0</td>\n",
       "      <td>0</td>\n",
       "    </tr>\n",
       "    <tr>\n",
       "      <th>2</th>\n",
       "      <td>0</td>\n",
       "      <td>0</td>\n",
       "      <td>0</td>\n",
       "      <td>0</td>\n",
       "      <td>0</td>\n",
       "      <td>0</td>\n",
       "      <td>0</td>\n",
       "      <td>0</td>\n",
       "      <td>0</td>\n",
       "      <td>0</td>\n",
       "      <td>0</td>\n",
       "      <td>0</td>\n",
       "      <td>0</td>\n",
       "      <td>0</td>\n",
       "      <td>0</td>\n",
       "    </tr>\n",
       "    <tr>\n",
       "      <th>3</th>\n",
       "      <td>0</td>\n",
       "      <td>0</td>\n",
       "      <td>0</td>\n",
       "      <td>0</td>\n",
       "      <td>0</td>\n",
       "      <td>0</td>\n",
       "      <td>0</td>\n",
       "      <td>0</td>\n",
       "      <td>0</td>\n",
       "      <td>0</td>\n",
       "      <td>0</td>\n",
       "      <td>0</td>\n",
       "      <td>0</td>\n",
       "      <td>0</td>\n",
       "      <td>0</td>\n",
       "    </tr>\n",
       "    <tr>\n",
       "      <th>4</th>\n",
       "      <td>0</td>\n",
       "      <td>0</td>\n",
       "      <td>0</td>\n",
       "      <td>0</td>\n",
       "      <td>0</td>\n",
       "      <td>0</td>\n",
       "      <td>0</td>\n",
       "      <td>0</td>\n",
       "      <td>0</td>\n",
       "      <td>0</td>\n",
       "      <td>0</td>\n",
       "      <td>0</td>\n",
       "      <td>0</td>\n",
       "      <td>0</td>\n",
       "      <td>0</td>\n",
       "    </tr>\n",
       "  </tbody>\n",
       "</table>\n",
       "</div>"
      ],
      "text/plain": [
       "   total_goals_away_4  total_goals_home_got_4  total_goals_away_got_4  \\\n",
       "0                   0                       0                       0   \n",
       "1                   0                       0                       0   \n",
       "2                   0                       0                       0   \n",
       "3                   0                       0                       0   \n",
       "4                   0                       0                       0   \n",
       "\n",
       "   total_AS_4  total_AS_got_4  total_HS_4  total_HS_got_4  total_AST_4  \\\n",
       "0           0               0           0               0            0   \n",
       "1           0               0           0               0            0   \n",
       "2           0               0           0               0            0   \n",
       "3           0               0           0               0            0   \n",
       "4           0               0           0               0            0   \n",
       "\n",
       "   total_AST_got_4  total_HST_4  total_HST_got_4  total_AC_4  total_AC_got_4  \\\n",
       "0                0            0                0           0               0   \n",
       "1                0            0                0           0               0   \n",
       "2                0            0                0           0               0   \n",
       "3                0            0                0           0               0   \n",
       "4                0            0                0           0               0   \n",
       "\n",
       "   total_HC_4  total_HC_got_4  \n",
       "0           0               0  \n",
       "1           0               0  \n",
       "2           0               0  \n",
       "3           0               0  \n",
       "4           0               0  "
      ]
     },
     "execution_count": 68,
     "metadata": {},
     "output_type": "execute_result"
    }
   ],
   "source": [
    "df_features.head()"
   ]
  },
  {
   "cell_type": "code",
   "execution_count": 69,
   "metadata": {},
   "outputs": [],
   "source": [
    "## Transform to numpy array\n",
    "result = pd.factorize(result)\n",
    "features = np.array(df_features)\n",
    "\n",
    "scaler = Normalizer()\n",
    "\n",
    "features = scaler.fit_transform(features)\n",
    "result = np.array(result[0])\n",
    "train_size = int(len(features) * 0.8)\n",
    "X_train, X_val = features[:train_size], features[train_size:]\n",
    "y_train, y_val = result[:train_size], result[train_size:]\n",
    "X_val, X_test = X_val[:len(X_val) // 2], X_val[len(X_val) // 2:]\n",
    "y_val, y_test = y_val[:len(y_val) // 2], y_val[len(y_val) // 2:]"
   ]
  },
  {
   "cell_type": "markdown",
   "metadata": {},
   "source": [
    "## Function to return expected returns with specific bookmakers or maximum bet rate"
   ]
  },
  {
   "cell_type": "code",
   "execution_count": 70,
   "metadata": {},
   "outputs": [],
   "source": [
    "def return_rate(y_pred, y_val, first_index, train_size):\n",
    "    dataset = pd.read_csv('created_dataset/EPL_2005_2023.csv', index_col=None, header=0)\n",
    "    test = []\n",
    "    for i in range(0, len(y_val)):\n",
    "        if(y_val[i] == y_pred[i]):\n",
    "            if (y_val[i] == 0):\n",
    "                test.append(dataset.iloc[first_index + train_size + i]['MaxD'])\n",
    "            if (y_val[i] == 1):\n",
    "                test.append(dataset.iloc[first_index + train_size + i]['MaxA'])    \n",
    "            if (y_val[i] == 2):\n",
    "                test.append(dataset.iloc[first_index + train_size + i]['MaxH'])\n",
    "        else:\n",
    "            test.append(0)\n",
    "    print(test)\n",
    "    print(sum(test) / len(test))\n"
   ]
  },
  {
   "cell_type": "markdown",
   "metadata": {},
   "source": [
    "## Train the model"
   ]
  },
  {
   "cell_type": "markdown",
   "metadata": {},
   "source": [
    "### Main model"
   ]
  },
  {
   "cell_type": "code",
   "execution_count": 71,
   "metadata": {
    "collapsed": false
   },
   "outputs": [
    {
     "name": "stdout",
     "output_type": "stream",
     "text": [
      "[1 2 2 2 2 2 2 2 2 2 1 2 1 2 2 2 1 2 1 1 2 1 1 2 2 1 1 2 2 1 1 2 2 2 2 1 2\n",
      " 2 2 1 2 2 2 1 1 2 2 2 1 2 2 2 2 2 2 2 2 2 2 1 2 2 2 1 2 2 1 2 1 1 2 2 2 2\n",
      " 2 2 1 2 2 1 2 1 2 1 2 2 2 2 1 2 2 2 1 1 2 2 2 2 1 1 1 2 2 2 2 1 2 1 1 2 2\n",
      " 2 2 1 2 2 2 2 2 1 2 1 1 2 1 2 2 2 2 2 2 2 1 1 2 2 1 1 2 2 1 2 1 2 2 2 2 2\n",
      " 2 2 2 1 2 1 2 1 2 1 2 1 1 2 1 2 2 2 2 2 2 1 1 2 2 1 2 2 1 2 1 1 2 2 2 2 2\n",
      " 2 1 2 1 1 1 2 2 2 1 2 1 2 2 2 2 1 1 2 1 2 1 2 2 1 1 2 2 2 1 2 1 2 1 1 2 2\n",
      " 1 1 2 1 2 1 2 2 2 2 2 2 2 2 2 2 2 2 2 2 2 2 1 2 2 1 1 1 1 2 2 2 1 2 1 2 1\n",
      " 2 2 2 2 2 2 2 2 2 1 2 2 1 1 2 1 2 1 1 1 2 1 2 2 1 1 1 2 2 2 2 2 2 1 2 1 2\n",
      " 2 1 1 2 1 2 2 2 2 2 1 2 2 2 2 1 2 1 1 2 2 1 2 1 2 2 2 1 2 2 2 1 2 2 2 2 2\n",
      " 2 2 2 2 2 2 1 1 2 1 1 2 1 2 1 2 2 1 2 2 2 1 2 2 1 2 1 2 2 2 2 2 1 2 1 1 1\n",
      " 2 2 2 2 2 2 2 1 2 2 1 2 2 2 1 1 2 1 2 2 1 1 2 2 2 1 2 1 2 2 1 2 2 2 1 1 2\n",
      " 2 2 2 2 1 2 1 1 2 2 2 2 1 1 2 2 2 1 1 2 2 2 2 1 1 2 1 2 2 2 2 2 2 2 2 1 1\n",
      " 2 2 2 2 2 1 1 1 2 1 2 2 2 2 1 2 1 2 2 2 2 2 2 2 2 1 2 2 1 2 2 1 2 1 1 2 1\n",
      " 2 2 2 2 2 2 2 1 2 2 2 1 2 2 1 2 2 1 1 2 1 2 2 1 2 2 2 2 2 2 2 1 2 1 2 1 2\n",
      " 1 2 2 2 2 2 2 2 2 2 1 1 2 1 2 2 2 2 1 1 2 1 1 2 2 1 2 2 2 2 2 1 2 2 1 2 1\n",
      " 1 1 2 1 2 2 2 2 2 2 2 1 2 1 2 2 2 2 2 1 1 2 1 1 2 1 1 2 2 1 1 2 1 2 2 1 1\n",
      " 2 2 2 2 2 2 2 2 2 2 2 2 2 2 2 1 1 1 1 2 1 2 2 1 2 2 2 1 2 1 2 1 2 2 1 2 2\n",
      " 1 2 2 2 2 2 2 2 2 2 2 2 2 2 2 1 1 2 1 1 2 2 1 2 1 1 1 2 2 2 1 2 2 2 2 2 1\n",
      " 2 2 1 2 1 1 2 2 1 2 1 2 2 2 2 2 2 2 1 2 2 2 2 2 2 2 1 2 2 2 1 2 2 2 1 1 2\n",
      " 2 1]\n",
      "[2 2 1 2 2 1 2 0 0 2 2 2 1 2 0 2 2 1 1 0 0 1 1 2 0 2 1 2 2 2 2 0 2 0 2 1 2\n",
      " 0 2 1 0 2 1 1 2 0 1 2 1 2 0 2 2 1 2 0 1 1 2 1 2 0 1 2 2 1 1 1 1 1 2 2 1 2\n",
      " 1 1 1 2 2 1 1 1 0 1 1 0 1 2 1 2 2 2 0 2 1 2 2 2 1 2 0 0 2 1 0 0 0 1 0 1 1\n",
      " 0 1 0 2 2 0 1 0 1 2 1 1 2 1 2 1 2 2 1 0 2 1 2 2 2 1 2 0 1 1 1 2 2 1 1 0 2\n",
      " 2 0 1 0 2 1 2 1 0 1 1 2 0 2 1 2 1 1 2 2 1 1 1 2 0 2 2 0 0 1 2 2 0 0 2 1 0\n",
      " 2 0 0 1 1 1 2 0 0 1 2 1 2 2 0 2 0 2 2 1 2 0 0 0 0 0 1 2 0 1 2 0 1 2 2 2 0\n",
      " 1 1 1 2 2 1 1 2 0 0 1 1 2 1 2 1 0 2 2 2 2 2 1 1 2 1 1 1 1 2 0 0 0 1 1 1 2\n",
      " 2 0 0 1 2 1 1 2 2 2 2 1 1 1 1 1 1 1 2 0 2 0 0 2 0 1 1 2 2 1 2 0 1 0 2 1 2\n",
      " 2 0 1 2 0 0 1 2 2 1 1 2 1 2 2 2 1 0 0 1 2 0 1 2 2 0 2 0 1 1 1 0 1 0 1 0 1\n",
      " 1 2 2 2 2 0 0 2 1 1 1 2 2 2 1 1 2 0 1 1 2 1 1 2 0 2 2 0 1 1 1 2 1 1 2 1 1\n",
      " 2 0 0 2 2 0 2 0 0 2 1 2 1 0 1 2 1 0 0 2 0 1 2 2 1 1 2 0 1 1 2 1 1 2 2 1 1\n",
      " 2 1 1 2 1 0 1 1 1 2 0 2 2 1 1 0 1 2 2 2 2 1 1 1 1 2 2 1 2 1 2 2 2 2 1 2 2\n",
      " 1 2 2 2 2 1 1 2 2 2 0 0 2 2 0 1 1 2 2 0 1 0 1 0 0 0 2 1 2 2 1 1 2 0 1 2 1\n",
      " 2 0 1 1 2 0 1 2 2 1 1 1 1 2 1 0 0 0 1 2 0 0 0 2 2 2 0 0 2 1 0 1 1 2 2 0 2\n",
      " 1 1 1 0 2 2 0 1 0 0 1 1 2 1 1 2 0 1 1 1 1 1 1 2 2 1 1 0 2 0 2 0 0 2 1 2 0\n",
      " 0 2 2 2 2 2 2 2 1 2 0 0 2 2 2 0 0 2 0 1 0 0 1 1 2 2 2 2 0 1 1 0 2 2 2 2 2\n",
      " 2 2 2 2 1 0 2 2 1 2 1 0 2 0 2 1 1 0 0 2 1 2 1 1 2 0 2 0 1 2 0 1 2 1 1 1 2\n",
      " 1 2 0 1 2 2 0 2 0 2 2 0 2 1 0 1 1 1 1 1 1 2 0 0 1 0 2 0 2 2 0 2 0 1 0 2 1\n",
      " 0 0 2 1 1 1 2 1 0 2 0 2 1 1 1 2 2 1 1 2 2 1 2 2 2 1 1 0 0 1 1 2 1 2 2 1 2\n",
      " 1 1]\n",
      "0.4879432624113475\n",
      "[0, 2.14, 0, 1.72, 1.19, 0, 1.46, 0, 0, 1.38, 0, 2.22, 1.46, 1.8, 0, 1.16, 0, 0, 1.62, 0, 0, 1.38, 2.07, 1.88, 0, 0, 1.35, 2.16, 2.35, 0, 0, 0, 1.14, 0, 1.18, 1.85, 4.1, 0, 2.1, 1.38, 0, 2.5, 0, 3.01, 0, 0, 0, 1.54, 1.37, 3.4, 0, 2.13, 2.05, 0, 1.9, 0, 0, 0, 1.1, 1.45, 2.25, 0, 0, 0, 1.35, 0, 2.04, 0, 1.71, 2.52, 1.59, 1.7, 0, 1.57, 0, 0, 2.26, 1.69, 2.81, 1.59, 0, 2.2, 0, 2.4, 0, 0, 0, 3.87, 2.62, 1.54, 1.47, 1.81, 0, 0, 0, 1.82, 1.6, 1.56, 4.15, 0, 0, 0, 1.53, 0, 0, 0, 0, 4.23, 0, 0, 0, 0, 0, 0, 1.29, 2.88, 0, 0, 0, 1.68, 2.1, 1.35, 1.59, 1.43, 2.85, 4.0, 0, 1.67, 2.56, 0, 0, 2.1, 2.51, 0, 1.44, 1.88, 1.56, 0, 0, 0, 1.54, 0, 0, 1.38, 0, 0, 0, 1.99, 2.9, 0, 0, 0, 1.19, 3.77, 2.72, 2.07, 0, 3.81, 0, 0, 0, 1.15, 2.12, 1.58, 0, 0, 2.1, 1.57, 0, 3.35, 3.32, 2.63, 0, 0, 1.76, 0, 0, 0, 0, 0, 0, 0, 1.83, 0, 0, 1.85, 0, 0, 1.5, 1.57, 1.53, 2.53, 0, 0, 3.79, 1.77, 2.06, 3.75, 1.55, 0, 2.01, 0, 0, 1.15, 1.95, 1.82, 0, 0, 0, 0, 0, 0, 2.48, 0, 2.12, 1.6, 0, 0, 0, 0, 2.09, 0, 1.66, 1.72, 0, 0, 2.58, 1.52, 0, 1.21, 0, 0, 0, 0, 1.91, 0, 1.85, 0, 0, 1.19, 1.47, 1.62, 3.04, 1.29, 1.59, 0, 1.55, 2.5, 2.0, 2.18, 1.23, 4.03, 0, 0, 0, 0, 2.3, 0, 0, 1.16, 0, 0, 0, 1.38, 0, 0, 3.2, 2.14, 0, 1.49, 0, 1.24, 2.04, 0, 3.48, 0, 2.25, 0, 0, 3.15, 0, 0, 1.5, 0, 2.2, 1.52, 1.93, 3.6, 0, 1.37, 0, 0, 0, 1.96, 4.24, 1.79, 1.29, 0, 1.38, 2.46, 0, 0, 0, 2.27, 2.78, 0, 1.57, 1.32, 0, 2.42, 1.26, 0, 0, 0, 0, 0, 1.6, 0, 0, 0, 1.25, 0, 3.9, 0, 0, 0, 0, 0, 0, 0, 0, 0, 0, 0, 1.53, 1.62, 2.18, 1.23, 0, 0, 0, 0, 1.38, 2.7, 1.6, 0, 1.92, 1.82, 0, 1.72, 0, 0, 0, 1.56, 1.63, 0, 2.17, 0, 2.33, 0, 0, 0, 0, 0, 1.56, 1.57, 0, 0, 2.59, 1.63, 3.7, 0, 0, 3.97, 1.74, 0, 1.4, 0, 0, 1.86, 1.42, 1.63, 0, 0, 1.86, 0, 0, 0, 0, 1.5, 0, 1.38, 2.24, 1.53, 0, 2.13, 1.33, 0, 0, 0, 0, 0, 0, 1.32, 0, 1.87, 0, 1.54, 0, 0, 2.15, 5.3, 0, 2.25, 1.34, 0, 2.08, 0, 3.16, 0, 1.27, 0, 0, 0, 0, 0, 1.96, 1.79, 0, 0, 1.28, 1.67, 1.67, 0, 0, 1.49, 0, 1.19, 1.48, 2.9, 1.76, 0, 0, 0, 0, 1.3, 2.04, 1.75, 3.3, 1.37, 2.36, 0, 1.24, 0, 0, 0, 1.13, 1.8, 0, 0, 1.83, 2.66, 1.3, 0, 0, 0, 0, 0, 0, 0, 1.48, 0, 0, 1.55, 0, 1.63, 1.24, 0, 2.38, 1.33, 1.83, 1.8, 0, 0, 0, 1.25, 0, 0, 0, 2.88, 0, 0, 2.9, 0, 1.68, 2.4, 0, 0, 0, 2.92, 2.38, 0, 0, 0, 0, 1.83, 1.75, 0, 0, 2.2, 0, 0, 1.39, 0, 0, 1.14, 0, 2.48, 1.66, 0, 0, 0, 2.09, 1.22, 0, 0, 0, 0, 1.46, 2.83, 2.48, 2.38, 0, 2.73, 0, 0, 1.42, 2.45, 0, 2.17, 2.57, 2.32, 2.08, 1.76, 0, 0, 2.62, 0, 1.43, 0, 0, 5.0, 1.84, 2.52, 0, 0, 0, 6.7, 0, 1.53, 1.22, 1.8, 1.52, 0, 1.33, 0, 0, 2.34, 0, 1.34, 0, 0, 2.52, 0, 1.35, 0, 0, 1.41, 1.44, 1.7, 0, 0, 2.44, 0, 1.47, 1.23, 0, 0, 1.45, 2.51, 0, 0, 1.19, 1.71, 1.32, 1.27, 0, 0, 1.78, 2.36, 0, 1.18, 0, 0, 2.28, 0, 1.15, 1.98, 1.21, 0, 0, 1.22, 1.46, 1.76, 0, 1.75, 2.02, 0, 1.74, 0, 0, 0, 0, 1.19, 1.42, 0, 1.66, 0, 3.12, 2.9, 2.15, 0, 0, 2.18, 1.34, 0, 1.77, 0, 4.0, 2.4, 0, 1.33, 0, 0, 2.47, 1.88, 0, 2.76, 2.63, 0, 1.97, 0, 0, 1.63, 0, 0, 0, 2.66, 1.63, 0, 1.14, 0, 0, 0, 1.29, 2.28, 0, 0, 0, 0, 1.2, 1.32, 2.8, 0, 0, 1.85, 0, 1.5, 0, 0, 0, 1.14, 2.15, 0, 1.95, 2.36, 5.0, 0, 1.18, 1.7, 1.63, 0, 3.16, 0, 0, 0, 1.32, 2.2, 0, 1.86, 0, 1.54, 2.88, 0, 3.52]\n",
      "0.9786950354609936\n"
     ]
    },
    {
     "name": "stderr",
     "output_type": "stream",
     "text": [
      "C:\\Users\\trung\\AppData\\Local\\Temp\\ipykernel_32272\\2295821859.py:2: DtypeWarning: Columns (77) have mixed types. Specify dtype option on import or set low_memory=False.\n",
      "  dataset = pd.read_csv('created_dataset/EPL_2005_2023.csv', index_col=None, header=0)\n"
     ]
    }
   ],
   "source": [
    "from sklearn.neural_network import MLPClassifier\n",
    "from sklearn.metrics import accuracy_score\n",
    "model = MLPClassifier((20, 20))\n",
    "model.fit(X_train, y_train)\n",
    "y_pred = model.predict(X_val)\n",
    "print(y_pred)\n",
    "print(y_val)\n",
    "print(accuracy_score(y_pred, y_val))\n",
    "return_rate(y_pred, y_val, start, train_size)"
   ]
  },
  {
   "cell_type": "markdown",
   "metadata": {},
   "source": [
    "### Auxillary model"
   ]
  },
  {
   "cell_type": "code",
   "execution_count": 72,
   "metadata": {
    "collapsed": false
   },
   "outputs": [
    {
     "name": "stdout",
     "output_type": "stream",
     "text": [
      "0.4695035460992908\n",
      "[0, 2.14, 0, 1.72, 1.19, 0, 1.46, 0, 0, 1.38, 0, 2.22, 1.46, 1.8, 0, 1.16, 0, 0, 1.62, 0, 0, 1.38, 0, 1.88, 0, 6.8, 1.35, 2.16, 2.35, 0, 0, 0, 1.14, 3.42, 1.18, 1.85, 4.1, 0, 2.1, 1.38, 0, 2.5, 0, 3.01, 0, 0, 0, 1.54, 1.37, 3.4, 0, 2.13, 2.05, 0, 1.9, 4.45, 0, 0, 1.1, 1.45, 2.25, 0, 0, 0, 1.35, 0, 2.04, 0, 1.71, 2.52, 1.59, 0, 0, 1.57, 0, 0, 2.26, 1.69, 2.81, 1.59, 0, 2.2, 0, 0, 2.75, 0, 0, 3.87, 0, 1.54, 1.47, 1.81, 0, 0, 0, 1.82, 1.6, 0, 4.15, 0, 0, 0, 1.53, 0, 0, 0, 0, 0, 0, 0, 0, 0, 0, 0, 1.29, 2.88, 0, 0, 0, 1.68, 2.1, 1.35, 0, 1.43, 2.85, 0, 0, 1.67, 2.56, 0, 0, 2.1, 2.51, 0, 1.44, 1.88, 1.56, 0, 0, 0, 1.54, 0, 0, 1.38, 0, 0, 0, 1.99, 0, 0, 0, 0, 1.19, 3.77, 2.72, 2.07, 0, 3.81, 0, 0, 0, 1.15, 2.12, 1.58, 2.65, 0, 2.1, 1.57, 0, 0, 3.32, 2.63, 0, 0, 1.76, 0, 0, 0, 2.11, 5.8, 0, 0, 1.83, 0, 0, 1.85, 0, 0, 1.5, 1.57, 1.53, 2.53, 0, 0, 3.79, 1.77, 2.06, 3.75, 1.55, 0, 2.01, 0, 4.45, 1.15, 1.95, 1.82, 0, 0, 0, 0, 0, 0, 2.48, 0, 0, 1.6, 0, 0, 0, 0, 2.09, 0, 0, 1.72, 0, 0, 2.58, 1.52, 0, 1.21, 0, 0, 0, 0, 1.91, 0, 1.85, 0, 0, 1.19, 1.47, 1.62, 3.04, 1.29, 1.59, 0, 1.55, 2.5, 2.0, 2.18, 1.23, 4.03, 0, 0, 0, 0, 2.3, 0, 0, 1.16, 0, 0, 0, 1.38, 0, 0, 0, 2.14, 0, 1.49, 0, 1.24, 2.04, 0, 3.48, 0, 2.25, 2.87, 0, 3.15, 0, 0, 1.5, 0, 0, 1.52, 1.93, 3.6, 0, 1.37, 0, 3.28, 0, 0, 0, 1.79, 1.29, 0, 1.38, 2.46, 0, 0, 0, 2.27, 2.78, 0, 1.57, 1.32, 0, 2.42, 1.26, 0, 0, 0, 0, 0, 1.6, 0, 1.45, 2.28, 1.25, 0, 0, 0, 0, 0, 0, 0, 0, 0, 0, 0, 0, 0, 1.53, 1.62, 2.18, 1.23, 0, 0, 0, 0, 1.38, 2.7, 1.6, 0, 1.92, 1.82, 0, 1.72, 0, 0, 0, 1.56, 0, 0, 2.17, 0, 2.33, 1.7, 0, 0, 0, 0, 1.56, 1.57, 0, 0, 2.59, 1.63, 0, 0, 0, 3.97, 1.74, 0, 1.4, 0, 0, 1.86, 1.42, 1.63, 0, 0, 1.86, 0, 0, 0, 0, 1.5, 0, 1.38, 2.24, 1.53, 0, 0, 1.33, 0, 0, 0, 0, 0, 0, 1.32, 0, 1.87, 0, 1.54, 0, 3.0, 2.15, 5.3, 0, 0, 1.34, 0, 2.08, 0, 3.16, 0, 1.27, 0, 0, 0, 0, 0, 1.96, 1.79, 0, 0, 1.28, 0, 1.67, 0, 0, 1.49, 0, 1.19, 1.48, 0, 1.76, 0, 0, 0, 0, 1.3, 2.04, 1.75, 0, 1.37, 2.36, 5.85, 1.24, 0, 0, 0, 1.13, 1.8, 0, 2.55, 1.83, 2.66, 1.3, 0, 0, 0, 0, 0, 0, 0, 1.48, 0, 0, 1.55, 0, 1.63, 1.24, 0, 2.38, 1.33, 1.83, 1.8, 0, 0, 0, 1.25, 0, 0, 2.5, 2.88, 0, 0, 2.9, 0, 1.68, 2.4, 0, 0, 0, 2.92, 2.38, 0, 0, 0, 0, 1.83, 1.75, 0, 0, 0, 0, 0, 1.39, 0, 0, 1.14, 0, 2.48, 1.66, 0, 0, 0, 2.09, 1.22, 0, 0, 0, 0, 1.46, 2.83, 2.48, 0, 0, 2.73, 0, 0, 1.42, 2.45, 2.47, 2.17, 2.57, 2.32, 2.08, 1.76, 0, 0, 2.62, 0, 1.43, 0, 0, 5.0, 1.84, 2.52, 3.33, 0, 0, 6.7, 0, 1.53, 1.22, 1.8, 1.52, 0, 1.33, 0, 0, 2.34, 0, 1.34, 0, 0, 2.52, 0, 1.35, 0, 0, 1.41, 1.44, 0, 2.1, 0, 0, 0, 1.47, 1.23, 0, 0, 1.45, 2.51, 3.62, 2.36, 1.19, 1.71, 1.32, 1.27, 0, 0, 1.78, 2.36, 0, 1.18, 0, 0, 2.28, 0, 1.15, 1.98, 1.21, 0, 0, 1.22, 1.46, 1.76, 0, 1.75, 2.02, 0, 1.74, 0, 0, 0, 0, 1.19, 1.42, 0, 1.66, 0, 3.12, 0, 0, 0, 0, 2.18, 1.34, 0, 1.77, 0, 4.0, 2.4, 0, 1.33, 0, 0, 2.47, 0, 0, 2.76, 0, 0, 0, 0, 0, 1.63, 0, 0, 0, 2.66, 1.63, 0, 1.14, 0, 0, 0, 1.29, 2.28, 0, 0, 0, 0, 1.2, 1.32, 2.8, 0, 0, 1.85, 0, 1.5, 0, 0, 0, 1.14, 2.15, 0, 1.95, 2.36, 5.0, 0, 1.18, 1.7, 1.63, 0, 3.16, 0, 0, 0, 1.32, 2.2, 0, 1.86, 0, 0, 2.88, 0, 0]\n",
      "0.9548652482269511\n"
     ]
    },
    {
     "name": "stderr",
     "output_type": "stream",
     "text": [
      "C:\\Users\\trung\\AppData\\Local\\Temp\\ipykernel_32272\\2295821859.py:2: DtypeWarning: Columns (77) have mixed types. Specify dtype option on import or set low_memory=False.\n",
      "  dataset = pd.read_csv('created_dataset/EPL_2005_2023.csv', index_col=None, header=0)\n"
     ]
    }
   ],
   "source": [
    "from sklearn.ensemble import GradientBoostingClassifier\n",
    "\n",
    "model = GradientBoostingClassifier()\n",
    "model.fit(X_train, y_train)\n",
    "\n",
    "y_pred = model.predict(X_val)\n",
    "print(accuracy_score(y_pred, y_val))\n",
    "return_rate(y_pred, y_val, start, train_size)"
   ]
  },
  {
   "cell_type": "code",
   "execution_count": 73,
   "metadata": {},
   "outputs": [
    {
     "name": "stdout",
     "output_type": "stream",
     "text": [
      "0.4794326241134752\n",
      "[4.3, 2.14, 0, 1.72, 1.19, 0, 1.46, 0, 0, 1.38, 0, 2.22, 1.46, 1.8, 0, 1.16, 0, 0, 1.62, 0, 0, 1.38, 0, 1.88, 0, 0, 1.35, 2.16, 2.35, 2.75, 0, 0, 1.14, 0, 1.18, 0, 4.1, 0, 2.1, 1.38, 0, 2.5, 0, 0, 0, 0, 0, 1.54, 1.37, 3.4, 0, 2.13, 2.05, 0, 1.9, 0, 0, 0, 1.1, 1.45, 2.25, 0, 0, 0, 1.35, 0, 2.04, 0, 1.71, 2.52, 1.59, 1.7, 0, 1.57, 0, 0, 2.26, 1.69, 2.81, 1.59, 0, 0, 0, 2.4, 0, 0, 0, 3.87, 2.62, 1.54, 1.47, 1.81, 0, 0, 0, 1.82, 1.6, 1.56, 0, 0, 0, 0, 1.53, 0, 0, 0, 0, 4.23, 0, 0, 0, 0, 0, 0, 1.29, 2.88, 0, 0, 0, 1.68, 2.1, 1.35, 1.59, 1.43, 0, 4.0, 0, 1.67, 2.56, 0, 0, 2.1, 2.51, 0, 1.44, 1.88, 1.56, 0, 0, 0, 1.54, 0, 0, 1.38, 0, 0, 0, 1.99, 2.9, 0, 0, 0, 1.19, 3.77, 2.72, 2.07, 0, 3.81, 0, 2.38, 0, 1.15, 2.12, 1.58, 0, 0, 2.1, 1.57, 0, 0, 3.32, 2.63, 0, 0, 1.76, 0, 0, 0, 2.11, 5.8, 0, 0, 1.83, 0, 0, 1.85, 0, 0, 1.5, 0, 1.53, 2.53, 0, 0, 3.79, 1.77, 2.06, 3.75, 1.55, 0, 2.01, 0, 4.45, 1.15, 0, 1.82, 0, 0, 0, 0, 0, 0, 2.48, 0, 0, 1.6, 0, 0, 0, 1.85, 2.09, 0, 0, 1.72, 0, 0, 2.58, 1.52, 0, 1.21, 0, 0, 0, 0, 1.91, 0, 1.85, 0, 0, 1.19, 1.47, 1.62, 3.04, 1.29, 0, 0, 1.55, 2.5, 2.0, 2.18, 1.23, 4.03, 0, 0, 0, 0, 2.3, 0, 3.09, 1.16, 0, 0, 0, 1.38, 0, 0, 3.2, 2.14, 3.75, 1.49, 0, 1.24, 2.04, 0, 3.48, 0, 2.25, 2.87, 0, 3.15, 0, 0, 1.5, 0, 0, 1.52, 1.93, 3.6, 0, 1.37, 0, 0, 0, 1.96, 0, 1.79, 1.29, 0, 1.38, 2.46, 0, 0, 0, 2.27, 2.78, 0, 1.57, 1.32, 0, 2.42, 1.26, 0, 0, 0, 0, 0, 1.6, 0, 0, 2.28, 1.25, 0, 3.9, 0, 0, 0, 0, 0, 0, 0, 0, 0, 0, 0, 1.53, 1.62, 2.18, 1.23, 0, 0, 2.32, 0, 0, 2.7, 1.6, 0, 1.92, 1.82, 0, 1.72, 0, 0, 0, 1.56, 1.63, 0, 2.17, 0, 2.33, 1.7, 0, 0, 0, 0, 1.56, 1.57, 0, 0, 0, 0, 3.7, 0, 0, 3.97, 1.74, 0, 1.4, 0, 0, 1.86, 1.42, 1.63, 0, 0, 1.86, 0, 0, 0, 0, 1.5, 0, 1.38, 2.24, 1.53, 0, 0, 1.33, 0, 0, 0, 3.58, 0, 0, 1.32, 0, 1.87, 0, 1.54, 0, 0, 2.15, 5.3, 0, 0, 1.34, 0, 2.08, 0, 3.16, 1.58, 1.27, 0, 0, 0, 0, 0, 1.96, 1.79, 0, 0, 1.28, 0, 1.67, 7.0, 0, 1.49, 0, 1.19, 1.48, 2.9, 1.76, 0, 4.62, 0, 0, 1.3, 2.04, 1.75, 3.3, 1.37, 0, 5.85, 1.24, 1.87, 0, 0, 1.13, 1.8, 0, 0, 1.83, 2.66, 1.3, 0, 0, 0, 0, 0, 0, 0, 1.48, 0, 4.63, 1.55, 0, 1.63, 1.24, 0, 2.38, 1.33, 1.83, 1.8, 0, 0, 0, 1.25, 0, 0, 2.5, 2.88, 0, 0, 2.9, 0, 1.68, 0, 0, 0, 0, 2.92, 2.38, 0, 0, 0, 1.42, 1.83, 1.75, 0, 0, 2.2, 0, 0, 1.39, 0, 0, 1.14, 0, 2.48, 0, 0, 0, 0, 2.09, 1.22, 0, 0, 0, 0, 1.46, 0, 2.48, 0, 0, 2.73, 0, 0, 1.42, 2.45, 0, 0, 2.57, 2.32, 2.08, 1.76, 0, 0, 2.62, 0, 1.43, 0, 0, 5.0, 1.84, 2.52, 0, 0, 0, 6.7, 0, 1.53, 1.22, 1.8, 1.52, 0, 1.33, 0, 0, 2.34, 1.68, 1.34, 0, 0, 2.52, 0, 1.35, 0, 0, 1.41, 1.44, 1.7, 2.1, 0, 2.44, 0, 1.47, 1.23, 0, 1.61, 1.45, 2.51, 0, 2.36, 1.19, 1.71, 1.32, 1.27, 0, 0, 1.78, 2.36, 0, 1.18, 0, 0, 2.28, 0, 1.15, 1.98, 1.21, 0, 0, 1.22, 1.46, 1.76, 0, 1.75, 2.02, 0, 1.74, 0, 0, 0, 0, 1.19, 1.42, 0, 1.66, 0, 3.12, 0, 2.15, 0, 0, 2.18, 1.34, 0, 1.77, 0, 4.0, 2.4, 0, 1.33, 0, 0, 2.47, 0, 0, 0, 0, 0, 1.97, 0, 0, 1.63, 0, 0, 0, 2.66, 1.63, 0, 1.14, 0, 0, 0, 1.29, 2.28, 0, 0, 0, 0, 1.2, 1.32, 2.8, 0, 0, 1.85, 0, 1.5, 0, 0, 0, 1.14, 2.15, 0, 1.95, 2.36, 5.0, 0, 1.18, 1.7, 1.63, 0, 3.16, 0, 0, 0, 1.32, 2.2, 0, 1.86, 0, 0, 2.88, 0, 0]\n",
      "0.9857304964539015\n"
     ]
    },
    {
     "name": "stderr",
     "output_type": "stream",
     "text": [
      "C:\\Users\\trung\\AppData\\Local\\Temp\\ipykernel_32272\\2295821859.py:2: DtypeWarning: Columns (77) have mixed types. Specify dtype option on import or set low_memory=False.\n",
      "  dataset = pd.read_csv('created_dataset/EPL_2005_2023.csv', index_col=None, header=0)\n"
     ]
    }
   ],
   "source": [
    "from sklearn.svm import SVC\n",
    "\n",
    "model = SVC()\n",
    "model.fit(X_train, y_train)\n",
    "\n",
    "y_pred = model.predict(X_val)\n",
    "print(accuracy_score(y_pred, y_val))\n",
    "return_rate(y_pred, y_val, start, train_size)"
   ]
  },
  {
   "cell_type": "code",
   "execution_count": null,
   "metadata": {},
   "outputs": [],
   "source": [
    "import joblib\n",
    "inference = [0] * 16\n",
    "model = joblib.load('trained_model/prediction_with_FCNN_last_4_matches.pkl')\n",
    "home_team_name = 'Man United'\n",
    "away_team_name = 'Man City'\n",
    "# Features are: total_goals_home_4\ttotal_goals_away_4\ttotal_goals_home_got_4\ttotal_goals_away_got_4\ttotal_AS_4\ttotal_AS_got_4\ttotal_HS_4\ttotal_HS_got_4\ttotal_AST_4\ttotal_AST_got_4\ttotal_HST_4\ttotal_HST_got_4\ttotal_AC_4\ttotal_AC_got_4\ttotal_HC_4\ttotal_HC_got_4\n",
    "# These are the statistics of the last 4 games played by home and away teams.\n",
    "# 'got' means the amount of goals/etc that the home/away teams have been scored by the opponents in the last 4 games that each team played.\n",
    "# Output is [0, 1, 2], in which 0 is draw, 1 is away, 2 is home.\n",
    "query_data_home = dataset[(dataset['HomeTeam'] == home_team_name) | (dataset['AwayTeam'] == home_team_name)][-5:-1]\n",
    "query_data_away = dataset[(dataset['HomeTeam'] == away_team_name) | (dataset['AwayTeam'] == away_team_name)][-5:-1]\n",
    "for i in range(0, 4):\n",
    "    if query_data_home.iloc[i]['AwayTeam'] == home_team_name:\n",
    "        inference[0] += query_data_home.iloc[i]['FTAG']\n",
    "        inference[2] += query_data_home.iloc[i]['FTHG']\n",
    "        inference[6] += query_data_home.iloc[i]['AS']\n",
    "        inference[7] += query_data_home.iloc[i]['HS']\n",
    "        inference[10] += query_data_home.iloc[i]['AST']\n",
    "        inference[11] += query_data_home.iloc[i]['HST']\n",
    "        inference[14] += query_data_home.iloc[i]['AC']\n",
    "        inference[15] += query_data_home.iloc[i]['HC']\n",
    "    if query_data_home.iloc[i]['HomeTeam'] == home_team_name:\n",
    "        inference[0] += query_data_home.iloc[i]['FTHG']\n",
    "        inference[2] += query_data_home.iloc[i]['FTAG']\n",
    "        inference[6] += query_data_home.iloc[i]['HS']\n",
    "        inference[7] += query_data_home.iloc[i]['AS']\n",
    "        inference[10] += query_data_home.iloc[i]['HST']\n",
    "        inference[11] += query_data_home.iloc[i]['AST']\n",
    "        inference[14] += query_data_home.iloc[i]['HC']\n",
    "        inference[15] += query_data_home.iloc[i]['AC']\n",
    "    if query_data_home.iloc[i]['HomeTeam'] == away_team_name:\n",
    "        inference[1] += query_data_home.iloc[i]['FTHG']\n",
    "        inference[3] += query_data_home.iloc[i]['FTAG']\n",
    "        inference[4] += query_data_home.iloc[i]['HS']\n",
    "        inference[5] += query_data_home.iloc[i]['AS']\n",
    "        inference[8] += query_data_home.iloc[i]['HST']\n",
    "        inference[9] += query_data_home.iloc[i]['AST']\n",
    "        inference[12] += query_data_home.iloc[i]['HC']\n",
    "        inference[13] += query_data_home.iloc[i]['AC']\n",
    "    if query_data_home.iloc[i]['AwayTeam'] == away_team_name:\n",
    "        inference[1] += query_data_home.iloc[i]['FTAG']\n",
    "        inference[3] += query_data_home.iloc[i]['FTHG']\n",
    "        inference[4] += query_data_home.iloc[i]['AS']\n",
    "        inference[5] += query_data_home.iloc[i]['HS']\n",
    "        inference[8] += query_data_home.iloc[i]['AST']\n",
    "        inference[9] += query_data_home.iloc[i]['HST']\n",
    "        inference[12] += query_data_home.iloc[i]['AC']\n",
    "        inference[13] += query_data_home.iloc[i]['HC']\n",
    "\n",
    "prediction = int(model.predict(np.array(inference).reshape(1, -1)))\n",
    "if prediction == 0:\n",
    "    print('Draw')\n",
    "if prediction == 1:\n",
    "    print('Away')\n",
    "if prediction == 2:\n",
    "    print('Home')\n",
    "# Features are: total_goals_home_4\ttotal_goals_away_4\ttotal_goals_home_got_4\ttotal_goals_away_got_4\ttotal_AS_4\ttotal_AS_got_4\ttotal_HS_4\ttotal_HS_got_4\ttotal_AST_4\ttotal_AST_got_4\ttotal_HST_4\ttotal_HST_got_4\ttotal_AC_4\ttotal_AC_got_4\ttotal_HC_4\ttotal_HC_got_4\n",
    "# These are the statistics of the last 4 games played by home and away teams.\n",
    "# 'got' means the amount of goals/etc that the home/away teams have been scored by the opponents in the last 4 games that each team played.\n",
    "# Output is [0, 1, 2], in which 0 is draw, 1 is away, 2 is home."
   ]
  },
  {
   "cell_type": "code",
   "execution_count": null,
   "metadata": {},
   "outputs": [],
   "source": [
    "# # Save the model to file\n",
    "# import joblib\n",
    "# filename = 'trained_model/prediction_with_FCNN_last_4_matches.pkl'\n",
    "# joblib.dump(model, filename)"
   ]
  }
 ],
 "metadata": {
  "kernelspec": {
   "display_name": "Python 3",
   "language": "python",
   "name": "python3"
  },
  "language_info": {
   "codemirror_mode": {
    "name": "ipython",
    "version": 3
   },
   "file_extension": ".py",
   "mimetype": "text/x-python",
   "name": "python",
   "nbconvert_exporter": "python",
   "pygments_lexer": "ipython3",
   "version": "3.11.5"
  }
 },
 "nbformat": 4,
 "nbformat_minor": 0
}
